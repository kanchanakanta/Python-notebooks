{
 "cells": [
  {
   "cell_type": "markdown",
   "id": "38f73757",
   "metadata": {},
   "source": [
    "# EXPRESSIONS IN PYTHON\n",
    "\n",
    "# Def: \n",
    "An expression is a valid combination of literals , operators and variables.\n",
    "\n",
    "There are 5 types of expressions based on operators and  literals we use:\n",
    "\n",
    "1. Airthmetic Expressions\n",
    "2. Relational Expressions\n",
    "3. Logical Expressions\n",
    "4. String Expressions\n",
    "5. Compound Expressions"
   ]
  },
  {
   "cell_type": "markdown",
   "id": "3f2c84c4",
   "metadata": {},
   "source": [
    "# Airthmetic Expressions:\n",
    "\n",
    "Expressions which involves numbers (integers, floats or complex) and airthmetic operators are called as airthmetic expressions.\n",
    "\n",
    "Examples:\n",
    "\n",
    "* 2+3\n",
    "* A=5\n",
    "* B=6\n",
    "* C=A+B\n"
   ]
  },
  {
   "cell_type": "code",
   "execution_count": null,
   "id": "34640bb9",
   "metadata": {},
   "outputs": [],
   "source": []
  },
  {
   "cell_type": "markdown",
   "id": "82f8a1c5",
   "metadata": {},
   "source": [
    "# Relational Expressions:\n",
    "\n",
    "Expressions which involves literals , variables and relational operators are called as relational expressions\n",
    "\n",
    "Examples:\n",
    "\n",
    "\n",
    "1. 5>2\n",
    "2. 1>4\n",
    "3. A<=B\n",
    "4. C>=B\n",
    "5. A!=4\n",
    "6. A==B\n"
   ]
  },
  {
   "cell_type": "markdown",
   "id": "0e2eae43",
   "metadata": {},
   "source": [
    "# Logical Expressions\n",
    "\n",
    "Expressions which involves identifiers, literals and logical operators are called as Logical Expressions\n",
    "\n",
    "There are 3 logical operators are there\n",
    "\n",
    "1. and\n",
    "2. or \n",
    "3. not\n",
    "\n",
    "the logical operators works on the truth condition of the variables or expressions. the truth table is shown  below.\n",
    "\n",
    "\n"
   ]
  },
  {
   "cell_type": "markdown",
   "id": "b217ff75",
   "metadata": {},
   "source": [
    "<img src =\"logical operators.png\">"
   ]
  },
  {
   "cell_type": "code",
   "execution_count": 4,
   "id": "8aa884ee",
   "metadata": {},
   "outputs": [
    {
     "name": "stdout",
     "output_type": "stream",
     "text": [
      "True\n",
      "False\n",
      "False\n",
      "True\n",
      "False\n"
     ]
    }
   ],
   "source": [
    "# Example\n",
    "\n",
    "print(5>4 )\n",
    "print(3<2 )\n",
    "print(5>4 and 3<2)\n",
    "\n",
    "\n",
    "#Note: the and logic will return false when any one of the input is false. in the above example 5>4 is true but 3<2 is false. \n",
    "# so true and false is evaluated to false\n",
    "\n",
    "\n",
    "print(5>4 or 3<2)\n",
    "\n",
    "#Note: the or logic will return false when both the inputs are false. if any one of the input is true the result will be true.\n",
    "\n",
    "\n",
    "print(not 5>4)\n",
    "\n",
    "# Note: the not operator will flip the truth value of the expression. in the example 5>4 is true and when we combined with not \n",
    "# it returned false"
   ]
  },
  {
   "cell_type": "markdown",
   "id": "15193193",
   "metadata": {},
   "source": [
    "# string expressions:\n",
    "Expressions which involves valid string operators and string operators is called string expression.\n",
    "\n",
    "There are two string operators:\n",
    "1. '+'  concatenation operator : used to concatenate the strings\n",
    "\n",
    "2. '*'  replication operator : used to replicate the strings"
   ]
  },
  {
   "cell_type": "code",
   "execution_count": 9,
   "id": "4043f96e",
   "metadata": {},
   "outputs": [
    {
     "name": "stdout",
     "output_type": "stream",
     "text": [
      "hello worldhope for the best\n",
      "hello worldhello world\n"
     ]
    }
   ],
   "source": [
    "# Examples:\n",
    "\n",
    "x=\"hello world\"\n",
    "y=\"hope for the best\"\n",
    "\n",
    "print(x+y)\n",
    "\n",
    "# prints the concatenated string of x and y\n",
    "\n",
    "\n",
    "print(x*2)\n",
    "\n",
    "#replicates the string x two times"
   ]
  },
  {
   "cell_type": "markdown",
   "id": "6f5ee5c3",
   "metadata": {},
   "source": [
    "# compound expressions:\n",
    "\n",
    "an expression consisting the combination of expressions is known as compound expression\n",
    "\n",
    "Examples:\n",
    "\n",
    "sum=sum+i\n",
    "\n",
    "X>Y and P<Q"
   ]
  },
  {
   "cell_type": "code",
   "execution_count": 12,
   "id": "5e5ca83f",
   "metadata": {},
   "outputs": [
    {
     "name": "stdout",
     "output_type": "stream",
     "text": [
      "7\n"
     ]
    },
    {
     "data": {
      "text/plain": [
       "True"
      ]
     },
     "execution_count": 12,
     "metadata": {},
     "output_type": "execute_result"
    }
   ],
   "source": [
    "sum=0\n",
    "sum=sum+7\n",
    "print(sum)\n",
    "\n",
    "5>4 and 3<5"
   ]
  },
  {
   "cell_type": "code",
   "execution_count": null,
   "id": "a0e546e3",
   "metadata": {},
   "outputs": [],
   "source": []
  }
 ],
 "metadata": {
  "kernelspec": {
   "display_name": "Python 3",
   "language": "python",
   "name": "python3"
  },
  "language_info": {
   "codemirror_mode": {
    "name": "ipython",
    "version": 3
   },
   "file_extension": ".py",
   "mimetype": "text/x-python",
   "name": "python",
   "nbconvert_exporter": "python",
   "pygments_lexer": "ipython3",
   "version": "3.8.8"
  }
 },
 "nbformat": 4,
 "nbformat_minor": 5
}
